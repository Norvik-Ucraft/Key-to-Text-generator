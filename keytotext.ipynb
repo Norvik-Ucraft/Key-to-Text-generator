{
  "nbformat": 4,
  "nbformat_minor": 0,
  "metadata": {
    "colab": {
      "name": "keytotext",
      "provenance": [],
      "collapsed_sections": [],
      "authorship_tag": "ABX9TyPhFOfZVbQ7N3/tn2qRv0+7",
      "include_colab_link": true
    },
    "kernelspec": {
      "name": "python3",
      "display_name": "Python 3"
    },
    "language_info": {
      "name": "python"
    },
    "accelerator": "GPU"
  },
  "cells": [
    {
      "cell_type": "markdown",
      "metadata": {
        "id": "view-in-github",
        "colab_type": "text"
      },
      "source": [
        "<a href=\"https://colab.research.google.com/github/Norvik-Ucraft/Key-to-Text-generator/blob/main/keytotext.ipynb\" target=\"_parent\"><img src=\"https://colab.research.google.com/assets/colab-badge.svg\" alt=\"Open In Colab\"/></a>"
      ]
    },
    {
      "cell_type": "code",
      "execution_count": null,
      "metadata": {
        "id": "WjjjgKgXupnL"
      },
      "outputs": [],
      "source": [
        "!pip install keytotext"
      ]
    },
    {
      "cell_type": "code",
      "source": [
        "from keytotext import pipeline"
      ],
      "metadata": {
        "id": "JyCeA9nJvXA4"
      },
      "execution_count": null,
      "outputs": []
    },
    {
      "cell_type": "code",
      "source": [
        "model = pipeline('k2t-base')\n",
        "params = {'do_sample': True, 'num_beams': 4, 'no_repeat_ngram_size': 3, 'early_stopping': True}"
      ],
      "metadata": {
        "id": "oIowlP8lvekj"
      },
      "execution_count": null,
      "outputs": []
    },
    {
      "cell_type": "code",
      "source": [
        "output = model(['Ucraft', 'e-commerce', 'website builder'], **params)"
      ],
      "metadata": {
        "id": "ShIGo9zgyVf7"
      },
      "execution_count": null,
      "outputs": []
    },
    {
      "cell_type": "code",
      "source": [
        "!pip install transformers"
      ],
      "metadata": {
        "id": "1nukZlfORDeG"
      },
      "execution_count": null,
      "outputs": []
    },
    {
      "cell_type": "code",
      "source": [
        "import re\n",
        "import warnings\n",
        "\n",
        "from transformers import pipeline\n",
        "\n",
        "warnings.filterwarnings('ignore')"
      ],
      "metadata": {
        "id": "PtseLHF0TAqz"
      },
      "execution_count": null,
      "outputs": []
    },
    {
      "cell_type": "code",
      "source": [
        "generator = pipeline('text-generation', model='EleutherAI/gpt-neo-125M')"
      ],
      "metadata": {
        "id": "DOetUtf8TUKZ"
      },
      "execution_count": null,
      "outputs": []
    },
    {
      "cell_type": "code",
      "source": [
        "generated_content = generator(output, do_sample=True, max_length=256, temperature=0.9)\n",
        "dic = generated_content[0].values()\n",
        "ENDING_PUNCTUATIONS = ['.', '...', '!']\n",
        "\n",
        "for text in dic:\n",
        "  if text[-1] in ENDING_PUNCTUATIONS:\n",
        "    print(text)\n",
        "  else:\n",
        "    print(text, '** not finished case **')"
      ],
      "metadata": {
        "colab": {
          "base_uri": "https://localhost:8080/"
        },
        "id": "GTX-4WqBTknV",
        "outputId": "99f22645-030c-4544-8915-875d503447f6"
      },
      "execution_count": null,
      "outputs": [
        {
          "output_type": "stream",
          "name": "stderr",
          "text": [
            "Setting `pad_token_id` to `eos_token_id`:50256 for open-end generation.\n"
          ]
        },
        {
          "output_type": "stream",
          "name": "stdout",
          "text": [
            "Ucraft is the builder of the e-commerce website. As a successful and successful\n",
            "company, it is important to have a strong reputation and expertise on the e-commerce\n",
            "and online marketing front.\n",
            "\n",
            "VIRTUAL E-COMMUNICATION\n",
            "\n",
            "On August 27, 2016, VIRTUAL E-commerce is the company that created the e-commerce\n",
            "company Intuit. The company was started by a visionary and visionary.\n",
            "\n",
            "As such, one of the benefits of VIRTUAL E-commerce is that users can enjoy their\n",
            "customers any way they want: from store purchases to purchases from Amazon or eBay\n",
            "to even online shopping.\n",
            "\n",
            "If you are looking for the ultimate solution to your e-commerce requirements such as\n",
            "product listing, content, or even any online or offline shopping, VIRTUAL E-commerce has the\n",
            "right tools to help you.\n",
            "\n",
            "Before you start using VIRTUAL E-commerce, you have to go through the\n",
            "E-Commerce Tools section to search for products using a given type or brand.\n",
            "\n",
            "Once a product is found for that particular type or brand, it is\n",
            "then removed from the display to allow the company to search for more\n",
            "products.\n",
            "\n",
            "If you ** not finished case **\n"
          ]
        }
      ]
    },
    {
      "cell_type": "code",
      "source": [
        ""
      ],
      "metadata": {
        "id": "OB4gMgE2uFMQ"
      },
      "execution_count": null,
      "outputs": []
    }
  ]
}